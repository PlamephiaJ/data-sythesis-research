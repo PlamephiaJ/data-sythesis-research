{
 "cells": [
  {
   "cell_type": "markdown",
   "id": "2d3b65f9",
   "metadata": {},
   "source": [
    "# Script for phishing email dataset processing and style label extraction"
   ]
  },
  {
   "cell_type": "markdown",
   "id": "7fbdb9ef",
   "metadata": {},
   "source": [
    "## Prerequisites setup"
   ]
  },
  {
   "cell_type": "markdown",
   "id": "14afb990",
   "metadata": {},
   "source": [
    "Put the downloaded dataset in `data_phish/raw/` folder.\n",
    "\n",
    "For the example, we use the [Phishing Email Dataset](https://figshare.com/articles/dataset/Curated_Dataset_-_Phishing_Email/24899952) from figshare."
   ]
  },
  {
   "cell_type": "code",
   "execution_count": 49,
   "id": "0ee51450",
   "metadata": {},
   "outputs": [
    {
     "name": "stdout",
     "output_type": "stream",
     "text": [
      "CEAS_08.csv\n",
      "Enron.csv\n",
      "Ling.csv\n",
      "SpamAssasin.csv\n",
      "TREC_05.csv\n",
      "TREC_06.csv\n",
      "TREC_07.csv\n"
     ]
    }
   ],
   "source": [
    "!ls ../../data_phish/raw/ | grep .csv"
   ]
  },
  {
   "cell_type": "code",
   "execution_count": null,
   "id": "9c0ff071",
   "metadata": {},
   "outputs": [],
   "source": [
    "import csv\n",
    "import os\n",
    "import re\n",
    "import sys\n",
    "from pathlib import Path\n",
    "\n",
    "import pandas as pd"
   ]
  },
  {
   "cell_type": "code",
   "execution_count": 51,
   "id": "e9a9f59a",
   "metadata": {},
   "outputs": [
    {
     "name": "stdout",
     "output_type": "stream",
     "text": [
      "/home/yuhao/workspace/data-sythesis-research\n"
     ]
    }
   ],
   "source": [
    "csv.field_size_limit(\n",
    "    10**7\n",
    ")  # Increase CSV field size limit to avoid errors on large email bodies\n",
    "root_path = os.path.abspath(os.path.join(os.getcwd(), \"../..\"))\n",
    "if root_path not in sys.path:\n",
    "    sys.path.append(root_path)\n",
    "print(root_path)\n",
    "RAW_DATA_DIRECTORY = Path(root_path) / \"data_phish\" / \"raw\""
   ]
  },
  {
   "cell_type": "markdown",
   "id": "8c029150",
   "metadata": {},
   "source": [
    "## Define label extraction function"
   ]
  },
  {
   "cell_type": "markdown",
   "id": "9f99967c",
   "metadata": {},
   "source": [
    "Here we select two dimensions of style labels: (1) Style/Tone, (2) Purpose."
   ]
  },
  {
   "cell_type": "code",
   "execution_count": 52,
   "id": "c0193894",
   "metadata": {},
   "outputs": [],
   "source": [
    "def label_email(text: str) -> dict:\n",
    "    \"\"\"Label the email text with two attributes: style_tone and purpose.\"\"\"\n",
    "\n",
    "    text_lower = text.lower()\n",
    "    labels = {\"style_tone\": [], \"purpose\": []}\n",
    "\n",
    "    # ---- 1. Style / Tone ----\n",
    "    if re.search(r\"\\burgent\\b|\\bimmediately\\b|asap|within \\d+ hours\", text_lower):\n",
    "        labels[\"style_tone\"].append(\"urgent\")\n",
    "    elif re.search(r\"\\bdear\\b|sincerely|regards\", text_lower):\n",
    "        labels[\"style_tone\"].append(\"formal\")\n",
    "    elif re.search(r\"\\bhey\\b|\\bhi\\b|\\bthanks\\b\", text_lower):\n",
    "        labels[\"style_tone\"].append(\"informal\")\n",
    "    elif re.search(r\"sale|discount|offer|promotion\", text_lower):\n",
    "        labels[\"style_tone\"].append(\"marketing\")\n",
    "    else:\n",
    "        labels[\"style_tone\"].append(\"other\")\n",
    "\n",
    "    # ---- 2. Purpose ----\n",
    "    if re.search(r\"password|verify|account|login\", text_lower):\n",
    "        labels[\"purpose\"].append(\"account\")\n",
    "    elif re.search(r\"sale|offer|discount|buy now\", text_lower):\n",
    "        labels[\"purpose\"].append(\"advertisement\")\n",
    "    elif re.search(r\"meeting|report|project|schedule\", text_lower):\n",
    "        labels[\"purpose\"].append(\"business\")\n",
    "    else:\n",
    "        labels[\"purpose\"].append(\"other\")\n",
    "\n",
    "    return labels"
   ]
  },
  {
   "cell_type": "markdown",
   "id": "c7ac8b27",
   "metadata": {},
   "source": [
    "## Process the dataset and extract style labels"
   ]
  },
  {
   "cell_type": "markdown",
   "id": "dfefd5eb",
   "metadata": {},
   "source": []
  },
  {
   "cell_type": "code",
   "execution_count": 53,
   "id": "7a41bbd0",
   "metadata": {},
   "outputs": [
    {
     "name": "stdout",
     "output_type": "stream",
     "text": [
      "Processed /home/yuhao/workspace/data-sythesis-research/data_phish/raw/Enron.csv, saved to /home/yuhao/workspace/data-sythesis-research/data_phish/raw/Enron.json\n",
      "Processed /home/yuhao/workspace/data-sythesis-research/data_phish/raw/SpamAssasin.csv, saved to /home/yuhao/workspace/data-sythesis-research/data_phish/raw/SpamAssasin.json\n",
      "Processed /home/yuhao/workspace/data-sythesis-research/data_phish/raw/TREC_07.csv, saved to /home/yuhao/workspace/data-sythesis-research/data_phish/raw/TREC_07.json\n",
      "Processed /home/yuhao/workspace/data-sythesis-research/data_phish/raw/Ling.csv, saved to /home/yuhao/workspace/data-sythesis-research/data_phish/raw/Ling.json\n",
      "Processed /home/yuhao/workspace/data-sythesis-research/data_phish/raw/TREC_05.csv, saved to /home/yuhao/workspace/data-sythesis-research/data_phish/raw/TREC_05.json\n",
      "Processed /home/yuhao/workspace/data-sythesis-research/data_phish/raw/TREC_06.csv, saved to /home/yuhao/workspace/data-sythesis-research/data_phish/raw/TREC_06.json\n",
      "Processed /home/yuhao/workspace/data-sythesis-research/data_phish/raw/CEAS_08.csv, saved to /home/yuhao/workspace/data-sythesis-research/data_phish/raw/CEAS_08.json\n"
     ]
    }
   ],
   "source": [
    "def process_dataset(dataset_file: Path) -> None:\n",
    "    \"\"\"Process raw email texts and label them. Store the result in a JSON file.\"\"\"\n",
    "    df = pd.read_csv(dataset_file, engine=\"python\")\n",
    "    if (\n",
    "        \"subject\" not in df.columns\n",
    "        or \"body\" not in df.columns\n",
    "        or \"label\" not in df.columns\n",
    "    ):\n",
    "        raise ValueError(\n",
    "            f\"Dataset {dataset_file} must contain 'subject', 'body', and 'label' columns.\"\n",
    "        )\n",
    "    df[\"phish\"] = df[\"label\"]\n",
    "    df[\"text\"] = df[\"subject\"].fillna(\"\") + \"\\n\\n\" + df[\"body\"].fillna(\"\")\n",
    "    df[\"labels\"] = df[\"text\"].apply(label_email)\n",
    "    output_file = dataset_file.with_suffix(\".json\")\n",
    "    df[[\"text\", \"labels\", \"phish\"]].to_json(output_file, orient=\"records\", lines=True)\n",
    "    print(f\"Processed {dataset_file}, saved to {output_file}\")\n",
    "\n",
    "\n",
    "raw_data_dir = RAW_DATA_DIRECTORY.absolute()\n",
    "datasets = [f for f in raw_data_dir.iterdir() if f.suffix == \".csv\"]\n",
    "for dataset in datasets:\n",
    "    process_dataset(dataset)"
   ]
  },
  {
   "cell_type": "markdown",
   "id": "14c4d540",
   "metadata": {},
   "source": [
    "## Examine the processed dataset"
   ]
  },
  {
   "cell_type": "code",
   "execution_count": 63,
   "id": "1f386ea4",
   "metadata": {},
   "outputs": [
    {
     "name": "stdout",
     "output_type": "stream",
     "text": [
      "Enron.json           total=29767  phish=13976  benign=15791  phish_ratio=46.95% style=15290  style_ratio=51.37%\n",
      "SpamAssasin.json     total=5809   phish=1718   benign=4091   phish_ratio=29.57% style=2029   style_ratio=34.93%\n",
      "TREC_07.json         total=53757  phish=29399  benign=24358  phish_ratio=54.69% style=25066  style_ratio=46.63%\n",
      "Ling.json            total=2859   phish=458    benign=2401   phish_ratio=16.02% style=1072   style_ratio=37.50%\n",
      "TREC_05.json         total=55990  phish=22946  benign=33044  phish_ratio=40.98% style=26727  style_ratio=47.74%\n",
      "TREC_06.json         total=16457  phish=3989   benign=12468  phish_ratio=24.24% style=8235   style_ratio=50.04%\n",
      "CEAS_08.json         total=39154  phish=21842  benign=17312  phish_ratio=55.78% style=12449  style_ratio=31.79%\n"
     ]
    }
   ],
   "source": [
    "import json\n",
    "\n",
    "\n",
    "for dataset_file in datasets:\n",
    "    json_file = dataset_file.with_suffix(\".json\")\n",
    "    with open(json_file, \"r\", encoding=\"utf-8\") as f:\n",
    "        phish_count = 0\n",
    "        benign_count = 0\n",
    "        total = 0\n",
    "        style_count = 0\n",
    "        for line in f:\n",
    "            entry = json.loads(line)\n",
    "            total += 1\n",
    "            if entry[\"phish\"]:\n",
    "                phish_count += 1\n",
    "            else:\n",
    "                benign_count += 1\n",
    "            style_tone = entry.get(\"labels\", {}).get(\"style_tone\", [])\n",
    "            if style_tone and any(s != \"other\" for s in style_tone):\n",
    "                style_count += 1\n",
    "        style_ratio = style_count / total if total else 0\n",
    "        print(\n",
    "            f\"{json_file.name:<20} total={total:<6} phish={phish_count:<6} benign={benign_count:<6} phish_ratio={phish_count/total:>6.2%} style={style_count:<6} style_ratio={style_ratio:>6.2%}\"\n",
    "        )"
   ]
  }
 ],
 "metadata": {
  "kernelspec": {
   "display_name": "data-synthesis-research",
   "language": "python",
   "name": "python3"
  },
  "language_info": {
   "codemirror_mode": {
    "name": "ipython",
    "version": 3
   },
   "file_extension": ".py",
   "mimetype": "text/x-python",
   "name": "python",
   "nbconvert_exporter": "python",
   "pygments_lexer": "ipython3",
   "version": "3.13.7"
  }
 },
 "nbformat": 4,
 "nbformat_minor": 5
}
